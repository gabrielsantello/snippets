{
 "cells": [
  {
   "cell_type": "markdown",
   "id": "0b8df6f5",
   "metadata": {},
   "source": [
    "Here is a small little function to visualize different degrees of polynomials on the left graph and on the right one you can see the decrease in variance. Our goal is to choose the degree where variance is NOT significantly decreased from the previous degree (to avoid overfitting). You can call this function with X and y and pass any degree of polynomial you like to see (the default is 1). R^2 and RMSE metrics are also printed to compare the different degrees."
   ]
  },
  {
   "cell_type": "code",
   "execution_count": 1,
   "id": "8a6914c4",
   "metadata": {},
   "outputs": [],
   "source": [
    "from sklearn.metrics import r2_score, mean_squared_error\n",
    "from sklearn.linear_model import LinearRegression\n",
    "from sklearn.preprocessing import PolynomialFeatures"
   ]
  },
  {
   "cell_type": "code",
   "execution_count": 2,
   "id": "8b53d80a",
   "metadata": {},
   "outputs": [],
   "source": [
    "def plot_poly(X, y, degree = 1):\n",
    "    \n",
    "    var_array = []\n",
    "    i_array = []\n",
    "    plt.figure(figsize=(16, 6))\n",
    " \n",
    "    for i in range(1, degree+1):\n",
    "        poly_features = PolynomialFeatures(degree=i)\n",
    "        X_poly = poly_features.fit_transform(X)\n",
    "        lm = LinearRegression()\n",
    "        lm.fit(X_poly, y)\n",
    "        y_pred = lm.predict(X_poly)\n",
    "        variance = (np.power(y - y_pred, 2).sum()) / (len(X) - i - 1)\n",
    "        var_array.append(variance)\n",
    "        i_array.append(i)\n",
    "        print(f\"R2 {i} degree: {r2_score(y, y_pred)}\")\n",
    "        print(f\"RMSE {i} degree: {np.sqrt(mean_squared_error(y, y_pred))}\")\n",
    "        print(f\"Variance: {variance}\")\n",
    "        print(\"--------------------------------------\")\n",
    "        \n",
    "        plt.subplot(1, 2, 1)\n",
    "        plt.scatter(X, y)\n",
    "        plt.plot(X, y_pred, label=f\"degree {i}\")\n",
    "        plt.legend()\n",
    " \n",
    "        plt.subplot(1, 2, 2)\n",
    "        plt.scatter(i, variance, label=f\"degree={i}\", s=70)\n",
    "        plt.plot(i_array, var_array, color=\"grey\")\n",
    "        plt.xlabel(\"degree, n\", fontsize=18)\n",
    "        plt.ylabel(\"variance\", fontsize=18)\n",
    "        plt.legend()"
   ]
  },
  {
   "cell_type": "code",
   "execution_count": 4,
   "id": "9f230b20",
   "metadata": {},
   "outputs": [],
   "source": [
    "#Function call example: \n",
    "plot_poly(X, y, degree=4)"
   ]
  }
 ],
 "metadata": {
  "kernelspec": {
   "display_name": "Python 3 (ipykernel)",
   "language": "python",
   "name": "python3"
  },
  "language_info": {
   "codemirror_mode": {
    "name": "ipython",
    "version": 3
   },
   "file_extension": ".py",
   "mimetype": "text/x-python",
   "name": "python",
   "nbconvert_exporter": "python",
   "pygments_lexer": "ipython3",
   "version": "3.9.12"
  }
 },
 "nbformat": 4,
 "nbformat_minor": 5
}
