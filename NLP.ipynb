{
 "cells": [
  {
   "cell_type": "code",
   "execution_count": 1,
   "id": "dd08e167",
   "metadata": {},
   "outputs": [
    {
     "name": "stderr",
     "output_type": "stream",
     "text": [
      "[nltk_data] Downloading package stopwords to\n",
      "[nltk_data]     C:\\Users\\GabrielVieiraSantell\\AppData\\Roaming\\nltk_dat\n",
      "[nltk_data]     a...\n",
      "[nltk_data]   Package stopwords is already up-to-date!\n"
     ]
    }
   ],
   "source": [
    "# Natural Language Processing\n",
    "\n",
    "# Importing Libraries\n",
    "import pandas as pd\n",
    "import numpy as np\n",
    "\n",
    "# Importing dataset\n",
    "# quoting = 3 is for ignoring \"\" for our safety.\n",
    "dataset = pd.read_csv('NLP.tsv', delimiter='\\t',quoting = 3)\n",
    "\n",
    "# Cleaning the text\n",
    "# stopwords is a list of unwanted words like the,and,of,etc...\n",
    "# corpus is a collection of text.\n",
    "import re\n",
    "import nltk\n",
    "nltk.download('stopwords')\n",
    "from nltk.corpus import stopwords\n",
    "# Stemming means taking the root of the word eg. loved, loving, will love -> love\n",
    "# This will reduce different versions of the same word and will hence reduce the sparsity of matrix\n",
    "from nltk.stem.porter import PorterStemmer\n",
    "corpus = []\n",
    "for i in range (0, 1000):\n",
    "    # Removing unnecessary punctuations and numbers except letters and replacing removed words with space.\n",
    "    review = re.sub('[^a-zA-Z]', ' ', dataset['Review'][i])\n",
    "    # Converting review to lowercase\n",
    "    review = review.lower()\n",
    "    # Converting review to list(of strings)\n",
    "    review = review.split()\n",
    "    # Loop through all words and keep those which are not in stopwords list.\n",
    "    # set is much faster than a list and is considered when the review is very large eg. an article,a book\n",
    "    ps = PorterStemmer()\n",
    "    review = [ps.stem(word) for word in review if not word in set(stopwords.words('english'))]\n",
    "    # Joining back the review list to a string with each word seperated by a space.\n",
    "    review = ' '.join(review)\n",
    "    corpus.append(review)\n",
    "    \n",
    "# Creating the Bag of Words Model\n",
    "# Bag of Words Model is a sparse matrix where each row is the review and each column is a unique \n",
    "# word from the reviews.\n",
    "# Tokenization - process of taking all unique words of reviews and creating columns for each word.\n",
    "# Since this a problem of classification we have dependent and independent variables and each \n",
    "# unique word/column is like an independent variable and the review(good/bad) depends on these words.\n",
    "from sklearn.feature_extraction.text import CountVectorizer\n",
    "# max_features keeps most frequent words and removes least frequent words (extra cleaning)\n",
    "# max_feature reduces sparsity, increases precision, better learning and hence better prediction.\n",
    "cv = CountVectorizer(max_features = 1500)\n",
    "X = cv.fit_transform(corpus).toarray()\n",
    "y = dataset.iloc[:, 1].values\n",
    "\n",
    "from sklearn.model_selection import train_test_split\n",
    "X_train, X_test, y_train, y_test = train_test_split(X, y, test_size = 0.20, random_state = 0)\n",
    "\n",
    "from sklearn.naive_bayes import GaussianNB\n",
    "classifier = GaussianNB()\n",
    "classifier.fit(X_train, y_train)\n",
    "\n",
    "y_pred = classifier.predict(X_test)\n",
    "\n",
    "# Making the Confusion Matrix\n",
    "from sklearn.metrics import confusion_matrix\n",
    "cm = confusion_matrix(y_test,y_pred)"
   ]
  },
  {
   "cell_type": "code",
   "execution_count": 2,
   "id": "fbc23a1a",
   "metadata": {},
   "outputs": [
    {
     "data": {
      "text/plain": [
       "array([[55, 42],\n",
       "       [12, 91]], dtype=int64)"
      ]
     },
     "execution_count": 2,
     "metadata": {},
     "output_type": "execute_result"
    }
   ],
   "source": [
    "cm"
   ]
  }
 ],
 "metadata": {
  "kernelspec": {
   "display_name": "Python 3 (ipykernel)",
   "language": "python",
   "name": "python3"
  },
  "language_info": {
   "codemirror_mode": {
    "name": "ipython",
    "version": 3
   },
   "file_extension": ".py",
   "mimetype": "text/x-python",
   "name": "python",
   "nbconvert_exporter": "python",
   "pygments_lexer": "ipython3",
   "version": "3.9.12"
  }
 },
 "nbformat": 4,
 "nbformat_minor": 5
}
